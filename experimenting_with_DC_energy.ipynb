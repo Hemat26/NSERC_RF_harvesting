{
 "cells": [
  {
   "cell_type": "code",
   "execution_count": 15,
   "id": "b1716150",
   "metadata": {},
   "outputs": [
    {
     "name": "stdout",
     "output_type": "stream",
     "text": [
      "power 1e-06W has a output DC of 0.0W\n",
      "Efficiency = 0.0%\n",
      "power 2e-06W has a output DC of 2.47171219146732e-07W\n",
      "Efficiency = 12.3585609573366%\n",
      "power 3e-06W has a output DC of 5.048918757558571e-07W\n",
      "Efficiency = 16.829729191861905%\n",
      "power 4e-06W has a output DC of 7.736064000257114e-07W\n",
      "Efficiency = 19.340160000642786%\n",
      "power 5e-06W has a output DC of 1.0537774345694673e-06W\n",
      "Efficiency = 21.075548691389344%\n",
      "power 6e-06W has a output DC of 1.34588653586949e-06W\n",
      "Efficiency = 22.4314422644915%\n",
      "power 7e-06W has a output DC of 1.650434898756962e-06W\n",
      "Efficiency = 23.577641410813744%\n",
      "power 8e-06W has a output DC of 1.9679441043032413e-06W\n",
      "Efficiency = 24.59930130379052%\n",
      "power 9e-06W has a output DC of 2.2989568914770192e-06W\n",
      "Efficiency = 25.543965460855766%\n",
      "power 1e-05W has a output DC of 2.6440379528836773e-06W\n",
      "Efficiency = 26.440379528836772%\n"
     ]
    }
   ],
   "source": [
    "import numpy as np\n",
    "import math \n",
    "a = 42300\n",
    "b = 5.2\n",
    "psens = 0.000001\n",
    "psat = 0.001\n",
    "\n",
    "def DC_power_recieved(input_power):\n",
    "    psig = 1 + np.exp(-a * psens + b)\n",
    "    psig /= 1 + np.exp(-a*input_power + b)\n",
    "    psig -= 1\n",
    "    psig *= psat/np.exp(-a * psens + b) \n",
    "\n",
    "    if(psig < 0):\n",
    "        psig = 0\n",
    "\n",
    "    return psig\n",
    "\n",
    "powers = [0.000001, 0.000002, 0.000003, 0.000004, 0.000005, 0.000006, 0.000007, 0.000008, 0.000009, 0.00001]\n",
    "\n",
    "for p in powers:\n",
    "    print(f\"power {p}W has a output DC of {DC_power_recieved(p)}W\")\n",
    "    print(f\"Efficiency = {DC_power_recieved(p)/p * 100}%\")\n",
    "\n"
   ]
  },
  {
   "cell_type": "code",
   "execution_count": null,
   "id": "1759a463",
   "metadata": {},
   "outputs": [
    {
     "name": "stdout",
     "output_type": "stream",
     "text": [
      "for power 1e-06W\n",
      "the complicated time is 162.0000912432231s\n",
      "the simple time is 162.00000000000003s\n",
      "for power 2e-06W\n",
      "the complicated time is 81.0000879587948s\n",
      "the simple time is 81.00000000000001s\n",
      "for power 3e-06W\n",
      "the complicated time is 54.000085991905436s\n",
      "the simple time is 54.0s\n",
      "for power 4e-06W\n",
      "the complicated time is 40.50008453431442s\n",
      "the simple time is 40.50000000000001s\n",
      "for power 5e-06W\n",
      "the complicated time is 32.40008342289613s\n",
      "the simple time is 32.4s\n",
      "for power 6e-06W\n",
      "the complicated time is 27.000082509763793s\n",
      "the simple time is 27.0s\n",
      "for power 7e-06W\n",
      "the complicated time is 23.142938878627998s\n",
      "the simple time is 23.142857142857146s\n",
      "for power 8e-06W\n",
      "the complicated time is 20.25008107068306s\n",
      "the simple time is 20.250000000000004s\n",
      "for power 9e-06W\n",
      "the complicated time is 18.00008048184951s\n",
      "the simple time is 18.0s\n",
      "for power 1e-05W\n",
      "the complicated time is 16.200079953904797s\n",
      "the simple time is 16.2s\n"
     ]
    }
   ],
   "source": [
    "C = 0.0001\n",
    "V = 1.8\n",
    "R = 0.1\n",
    "\n",
    "def calculate_time(power):\n",
    "    A = math.sqrt(C*C*V*V + 4 * C*C * R * power)\n",
    "    t = math.log((A + C * V)/(A - C * V))\n",
    "    t += (2 * C * V)/(A - C * V)\n",
    "    t *= 0.5 * R * C\n",
    "    return t\n",
    "\n",
    "def calculate_time_simple(power):\n",
    "    return (0.5 * C * V * V)/(power)\n",
    "\n",
    "powers = [0.000001, 0.000002, 0.000003, 0.000004, 0.000005, 0.000006, 0.000007, 0.000008, 0.000009, 0.00001]\n",
    "\n",
    "for p in powers:\n",
    "    print(f\"for power {p}W\")\n",
    "    print(f\"the complicated time is {calculate_time_complicated(p)}s\")\n",
    "    print(f\"the simple time is {calculate_time_simple(p)}s\")\n",
    "    "
   ]
  }
 ],
 "metadata": {
  "kernelspec": {
   "display_name": "Python 3",
   "language": "python",
   "name": "python3"
  },
  "language_info": {
   "codemirror_mode": {
    "name": "ipython",
    "version": 3
   },
   "file_extension": ".py",
   "mimetype": "text/x-python",
   "name": "python",
   "nbconvert_exporter": "python",
   "pygments_lexer": "ipython3",
   "version": "3.13.3"
  }
 },
 "nbformat": 4,
 "nbformat_minor": 5
}
